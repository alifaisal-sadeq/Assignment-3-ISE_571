{
  "nbformat": 4,
  "nbformat_minor": 0,
  "metadata": {
    "colab": {
      "provenance": [],
      "authorship_tag": "ABX9TyPXb83eCOiMh/lJp0BtlQt/",
      "include_colab_link": true
    },
    "kernelspec": {
      "name": "python3",
      "display_name": "Python 3"
    },
    "language_info": {
      "name": "python"
    }
  },
  "cells": [
    {
      "cell_type": "markdown",
      "metadata": {
        "id": "view-in-github",
        "colab_type": "text"
      },
      "source": [
        "<a href=\"https://colab.research.google.com/github/alifaisal-sadeq/Assignment-3-ISE_571/blob/main/Programming_Exercise_1.ipynb\" target=\"_parent\"><img src=\"https://colab.research.google.com/assets/colab-badge.svg\" alt=\"Open In Colab\"/></a>"
      ]
    },
    {
      "cell_type": "code",
      "execution_count": 2,
      "metadata": {
        "colab": {
          "base_uri": "https://localhost:8080/"
        },
        "id": "g33UwNE2zvkT",
        "outputId": "0fafa788-d690-4bc5-c368-ab2d08b06be3"
      },
      "outputs": [
        {
          "output_type": "stream",
          "name": "stdout",
          "text": [
            "Collecting pyswarms\n",
            "  Downloading pyswarms-1.3.0-py2.py3-none-any.whl.metadata (33 kB)\n",
            "Requirement already satisfied: scipy in /usr/local/lib/python3.11/dist-packages (from pyswarms) (1.14.1)\n",
            "Requirement already satisfied: numpy in /usr/local/lib/python3.11/dist-packages (from pyswarms) (2.0.2)\n",
            "Requirement already satisfied: matplotlib>=1.3.1 in /usr/local/lib/python3.11/dist-packages (from pyswarms) (3.10.0)\n",
            "Requirement already satisfied: attrs in /usr/local/lib/python3.11/dist-packages (from pyswarms) (25.3.0)\n",
            "Requirement already satisfied: tqdm in /usr/local/lib/python3.11/dist-packages (from pyswarms) (4.67.1)\n",
            "Requirement already satisfied: future in /usr/local/lib/python3.11/dist-packages (from pyswarms) (1.0.0)\n",
            "Requirement already satisfied: pyyaml in /usr/local/lib/python3.11/dist-packages (from pyswarms) (6.0.2)\n",
            "Requirement already satisfied: contourpy>=1.0.1 in /usr/local/lib/python3.11/dist-packages (from matplotlib>=1.3.1->pyswarms) (1.3.1)\n",
            "Requirement already satisfied: cycler>=0.10 in /usr/local/lib/python3.11/dist-packages (from matplotlib>=1.3.1->pyswarms) (0.12.1)\n",
            "Requirement already satisfied: fonttools>=4.22.0 in /usr/local/lib/python3.11/dist-packages (from matplotlib>=1.3.1->pyswarms) (4.56.0)\n",
            "Requirement already satisfied: kiwisolver>=1.3.1 in /usr/local/lib/python3.11/dist-packages (from matplotlib>=1.3.1->pyswarms) (1.4.8)\n",
            "Requirement already satisfied: packaging>=20.0 in /usr/local/lib/python3.11/dist-packages (from matplotlib>=1.3.1->pyswarms) (24.2)\n",
            "Requirement already satisfied: pillow>=8 in /usr/local/lib/python3.11/dist-packages (from matplotlib>=1.3.1->pyswarms) (11.1.0)\n",
            "Requirement already satisfied: pyparsing>=2.3.1 in /usr/local/lib/python3.11/dist-packages (from matplotlib>=1.3.1->pyswarms) (3.2.3)\n",
            "Requirement already satisfied: python-dateutil>=2.7 in /usr/local/lib/python3.11/dist-packages (from matplotlib>=1.3.1->pyswarms) (2.8.2)\n",
            "Requirement already satisfied: six>=1.5 in /usr/local/lib/python3.11/dist-packages (from python-dateutil>=2.7->matplotlib>=1.3.1->pyswarms) (1.17.0)\n",
            "Downloading pyswarms-1.3.0-py2.py3-none-any.whl (104 kB)\n",
            "\u001b[2K   \u001b[90m━━━━━━━━━━━━━━━━━━━━━━━━━━━━━━━━━━━━━━━━\u001b[0m \u001b[32m104.1/104.1 kB\u001b[0m \u001b[31m3.3 MB/s\u001b[0m eta \u001b[36m0:00:00\u001b[0m\n",
            "\u001b[?25hInstalling collected packages: pyswarms\n",
            "Successfully installed pyswarms-1.3.0\n"
          ]
        }
      ],
      "source": [
        "# Install pyswarms if not already installed (run this once)\n",
        "!pip install pyswarms"
      ]
    },
    {
      "cell_type": "code",
      "source": [
        "import numpy as np\n",
        "import pyswarms as ps\n",
        "from pyswarms.single import GlobalBestPSO\n",
        "\n",
        "ft_rates = np.array([30, 35, 40, 45, 50])\n",
        "ot_rates = 1.5 * ft_rates\n",
        "pt_rates = np.array([25, 27, 29, 31, 33])\n",
        "\n",
        "penalty_factor = 1e6\n",
        "\n",
        "def cost_function(x):\n",
        "\n",
        "    ft_hours = x[:, :5]\n",
        "    ot_hours = x[:, 5:10]\n",
        "    pt_hours = x[:, 10:15]\n",
        "\n",
        "    cost_ft = np.sum(ft_rates * ft_hours, axis=1)\n",
        "    cost_ot = np.sum(ot_rates * ot_hours, axis=1)\n",
        "    cost_pt = np.sum(pt_rates * pt_hours, axis=1)\n",
        "    total_cost = cost_ft + cost_ot + cost_pt\n",
        "\n",
        "    total_ft = np.sum(ft_hours + ot_hours, axis=1)\n",
        "    total_pt = np.sum(pt_hours, axis=1)\n",
        "\n",
        "    penalty_ft = penalty_factor * np.maximum(0, 4 - total_ft)\n",
        "    penalty_pt = penalty_factor * np.maximum(0, 2 - total_pt)\n",
        "\n",
        "    penalty = penalty_ft + penalty_pt\n",
        "\n",
        "    return total_cost + penalty\n",
        "\n",
        "dimensions = 15\n",
        "lb = np.zeros(dimensions)\n",
        "ub = np.ones(dimensions) * 10\n",
        "bounds = (lb, ub)\n",
        "#c1 (Cognitive Coefficient)=1.5\n",
        "#c2 (Social Coefficient)=0.5\n",
        "#w (Inertia Weight)=0.9\n",
        "options = {'c1': 1.5, 'c2': 0.5, 'w': 0.9}\n",
        "\n",
        "optimizer = GlobalBestPSO(n_particles=50, dimensions=dimensions, options=options, bounds=bounds)\n",
        "\n",
        "best_cost, best_pos = optimizer.optimize(cost_function, iters=100)\n",
        "\n",
        "print(\"Best cost (total labor cost):\", best_cost)\n",
        "print(\"Best solution (hours schedule):\")\n",
        "print(\"Full-time regular hours:\", best_pos[:5])\n",
        "print(\"Full-time overtime hours:\", best_pos[5:10])\n",
        "print(\"Part-time hours:\", best_pos[10:15])\n"
      ],
      "metadata": {
        "colab": {
          "base_uri": "https://localhost:8080/"
        },
        "id": "OryEQ-lY_fwj",
        "outputId": "9ca08f46-3d02-4e38-ee21-4feec0942437"
      },
      "execution_count": 6,
      "outputs": [
        {
          "output_type": "stream",
          "name": "stderr",
          "text": [
            "2025-04-06 18:51:55,223 - pyswarms.single.global_best - INFO - Optimize for 100 iters with {'c1': 1.5, 'c2': 0.5, 'w': 0.9}\n",
            "pyswarms.single.global_best: 100%|██████████|100/100, best_cost=1.24e+3\n",
            "2025-04-06 18:51:55,384 - pyswarms.single.global_best - INFO - Optimization finished | best cost: 1236.418997054636, best pos: [3.41410109 1.7262928  1.84816513 2.13080136 2.04921155 0.95920708\n",
            " 0.25076685 2.10528182 1.16776756 1.52154275 2.07828316 1.56374187\n",
            " 6.30612544 3.24146423 1.45984335]\n"
          ]
        },
        {
          "output_type": "stream",
          "name": "stdout",
          "text": [
            "Best cost (total labor cost): 1236.418997054636\n",
            "Best solution (hours schedule):\n",
            "Full-time regular hours: [3.41410109 1.7262928  1.84816513 2.13080136 2.04921155]\n",
            "Full-time overtime hours: [0.95920708 0.25076685 2.10528182 1.16776756 1.52154275]\n",
            "Part-time hours: [2.07828316 1.56374187 6.30612544 3.24146423 1.45984335]\n"
          ]
        }
      ]
    }
  ]
}