{
  "nbformat": 4,
  "nbformat_minor": 0,
  "metadata": {
    "colab": {
      "provenance": [],
      "authorship_tag": "ABX9TyOLfQ8TlQIxp26Rsf+Ck6T4",
      "include_colab_link": true
    },
    "kernelspec": {
      "name": "python3",
      "display_name": "Python 3"
    },
    "language_info": {
      "name": "python"
    }
  },
  "cells": [
    {
      "cell_type": "markdown",
      "metadata": {
        "id": "view-in-github",
        "colab_type": "text"
      },
      "source": [
        "<a href=\"https://colab.research.google.com/github/alifaisal-sadeq/Assignment-3-ISE_571/blob/main/Programming_Exercise_1.ipynb\" target=\"_parent\"><img src=\"https://colab.research.google.com/assets/colab-badge.svg\" alt=\"Open In Colab\"/></a>"
      ]
    },
    {
      "cell_type": "code",
      "execution_count": 3,
      "metadata": {
        "colab": {
          "base_uri": "https://localhost:8080/"
        },
        "id": "g33UwNE2zvkT",
        "outputId": "c3d2f75a-90e8-4cf5-d7ae-fdd17e5821ae"
      },
      "outputs": [
        {
          "output_type": "stream",
          "name": "stdout",
          "text": [
            "Requirement already satisfied: pyswarms in /usr/local/lib/python3.11/dist-packages (1.3.0)\n",
            "Requirement already satisfied: scipy in /usr/local/lib/python3.11/dist-packages (from pyswarms) (1.14.1)\n",
            "Requirement already satisfied: numpy in /usr/local/lib/python3.11/dist-packages (from pyswarms) (2.0.2)\n",
            "Requirement already satisfied: matplotlib>=1.3.1 in /usr/local/lib/python3.11/dist-packages (from pyswarms) (3.10.0)\n",
            "Requirement already satisfied: attrs in /usr/local/lib/python3.11/dist-packages (from pyswarms) (25.3.0)\n",
            "Requirement already satisfied: tqdm in /usr/local/lib/python3.11/dist-packages (from pyswarms) (4.67.1)\n",
            "Requirement already satisfied: future in /usr/local/lib/python3.11/dist-packages (from pyswarms) (1.0.0)\n",
            "Requirement already satisfied: pyyaml in /usr/local/lib/python3.11/dist-packages (from pyswarms) (6.0.2)\n",
            "Requirement already satisfied: contourpy>=1.0.1 in /usr/local/lib/python3.11/dist-packages (from matplotlib>=1.3.1->pyswarms) (1.3.1)\n",
            "Requirement already satisfied: cycler>=0.10 in /usr/local/lib/python3.11/dist-packages (from matplotlib>=1.3.1->pyswarms) (0.12.1)\n",
            "Requirement already satisfied: fonttools>=4.22.0 in /usr/local/lib/python3.11/dist-packages (from matplotlib>=1.3.1->pyswarms) (4.56.0)\n",
            "Requirement already satisfied: kiwisolver>=1.3.1 in /usr/local/lib/python3.11/dist-packages (from matplotlib>=1.3.1->pyswarms) (1.4.8)\n",
            "Requirement already satisfied: packaging>=20.0 in /usr/local/lib/python3.11/dist-packages (from matplotlib>=1.3.1->pyswarms) (24.2)\n",
            "Requirement already satisfied: pillow>=8 in /usr/local/lib/python3.11/dist-packages (from matplotlib>=1.3.1->pyswarms) (11.1.0)\n",
            "Requirement already satisfied: pyparsing>=2.3.1 in /usr/local/lib/python3.11/dist-packages (from matplotlib>=1.3.1->pyswarms) (3.2.3)\n",
            "Requirement already satisfied: python-dateutil>=2.7 in /usr/local/lib/python3.11/dist-packages (from matplotlib>=1.3.1->pyswarms) (2.8.2)\n",
            "Requirement already satisfied: six>=1.5 in /usr/local/lib/python3.11/dist-packages (from python-dateutil>=2.7->matplotlib>=1.3.1->pyswarms) (1.17.0)\n"
          ]
        }
      ],
      "source": [
        "# Install pyswarms if not already installed (run this once)\n",
        "!pip install pyswarms"
      ]
    },
    {
      "cell_type": "code",
      "source": [
        "import numpy as np\n",
        "import pyswarms as ps\n",
        "\n",
        "c_i = np.array([30, 35, 40, 45, 50])\n",
        "c_io = 1.5 * c_i\n",
        "c_jp = np.array([25, 27, 29, 31, 33])\n",
        "\n",
        "def objective_function(x):\n",
        "    n_particles = x.shape[0]\n",
        "    cost = np.zeros(n_particles)\n",
        "    for i in range(n_particles):\n",
        "\n",
        "        x_i = x[i, :5]\n",
        "        x_io = x[i, 5:10]\n",
        "        x_jp = x[i, 10:]\n",
        "        cost_i = np.sum(c_i * x_i)\n",
        "        cost_io = np.sum(c_io * x_io)\n",
        "        cost_jp = np.sum(c_jp * x_jp)\n",
        "        total_cost = cost_i + cost_io + cost_jp\n",
        "\n",
        "        M = 10000\n",
        "        peak_total = np.sum(x_i + x_io)\n",
        "        non_peak_total = np.sum(x_jp)\n",
        "        penalty_peak = M * max(0, 4 - peak_total)**2\n",
        "        penalty_non_peak = M * max(0, 2 - non_peak_total)**2\n",
        "        cost[i] = total_cost + penalty_peak + penalty_non_peak\n",
        "    return cost\n",
        "\n",
        "lb = np.zeros(15)\n",
        "ub = np.ones(15) * 24\n",
        "\n",
        "# Set up PSO\n",
        "options = {'c1': 0.5, 'c2': 0.8, 'w': 0.9}\n",
        "optimizer = ps.single.GlobalBestPSO(n_particles=30, dimensions=15, options=options, bounds=(lb, ub))\n",
        "\n",
        "# Perform optimization\n",
        "cost, pos = optimizer.optimize(objective_function, iters=100)\n",
        "\n",
        "print(\"Best cost (minimum total labor cost):\", cost)\n",
        "print(\"Best position (optimal hours):\", pos)"
      ],
      "metadata": {
        "colab": {
          "base_uri": "https://localhost:8080/"
        },
        "id": "7cRZqS4AeG71",
        "outputId": "1361377a-6b6b-41ae-e7ef-7be5acf09258"
      },
      "execution_count": 10,
      "outputs": [
        {
          "output_type": "stream",
          "name": "stderr",
          "text": [
            "2025-04-04 20:25:40,831 - pyswarms.single.global_best - INFO - Optimize for 100 iters with {'c1': 0.5, 'c2': 0.8, 'w': 0.9}\n",
            "pyswarms.single.global_best: 100%|██████████|100/100, best_cost=3.57e+3\n",
            "2025-04-04 20:25:41,140 - pyswarms.single.global_best - INFO - Optimization finished | best cost: 3572.6448053683453, best pos: [9.22629527e+00 7.55397298e+00 2.31441326e+00 1.89791175e+00\n",
            " 7.39254471e+00 5.75308607e+00 3.19459249e+00 5.29334368e+00\n",
            " 6.55904113e-03 7.83604739e+00 5.78437208e+00 1.31483241e+01\n",
            " 1.52393949e+00 4.24676203e+00 1.44256754e+01]\n"
          ]
        },
        {
          "output_type": "stream",
          "name": "stdout",
          "text": [
            "Best cost (minimum total labor cost): 3572.6448053683453\n",
            "Best position (optimal hours): [9.22629527e+00 7.55397298e+00 2.31441326e+00 1.89791175e+00\n",
            " 7.39254471e+00 5.75308607e+00 3.19459249e+00 5.29334368e+00\n",
            " 6.55904113e-03 7.83604739e+00 5.78437208e+00 1.31483241e+01\n",
            " 1.52393949e+00 4.24676203e+00 1.44256754e+01]\n"
          ]
        }
      ]
    }
  ]
}